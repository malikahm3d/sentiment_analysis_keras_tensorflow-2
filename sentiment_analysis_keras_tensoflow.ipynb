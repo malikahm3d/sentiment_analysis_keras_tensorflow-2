{
  "nbformat": 4,
  "nbformat_minor": 0,
  "metadata": {
    "colab": {
      "name": "sentiment-analysis-keras-tensoflow.ipynb",
      "provenance": [],
      "collapsed_sections": [],
      "mount_file_id": "1kUmT4JK3M7gHr6GUid5EOpR-Mcsvqmr1",
      "authorship_tag": "ABX9TyNY8kl1Ic3nfELskzezTLpo",
      "include_colab_link": true
    },
    "kernelspec": {
      "name": "python3",
      "display_name": "Python 3"
    },
    "language_info": {
      "name": "python"
    }
  },
  "cells": [
    {
      "cell_type": "markdown",
      "metadata": {
        "id": "view-in-github",
        "colab_type": "text"
      },
      "source": [
        "<a href=\"https://colab.research.google.com/github/malikalnser/sentiment_analysis_keras_tensoflow-2/blob/main/sentiment_analysis_keras_tensoflow.ipynb\" target=\"_parent\"><img src=\"https://colab.research.google.com/assets/colab-badge.svg\" alt=\"Open In Colab\"/></a>"
      ]
    },
    {
      "cell_type": "code",
      "metadata": {
        "id": "Hv1j7lY9GvFg"
      },
      "source": [
        "import pandas as pd\n",
        "import numpy as np\n",
        "import re\n",
        "import csv"
      ],
      "execution_count": 1,
      "outputs": []
    },
    {
      "cell_type": "code",
      "metadata": {
        "id": "kBQ4oz_BWBXn",
        "colab": {
          "base_uri": "https://localhost:8080/"
        },
        "outputId": "0b6af1b4-09b9-4b12-c297-1a6aa57d252c"
      },
      "source": [
        "from google.colab import drive\n",
        "drive.mount('/content/drive')"
      ],
      "execution_count": 2,
      "outputs": [
        {
          "output_type": "stream",
          "text": [
            "Drive already mounted at /content/drive; to attempt to forcibly remount, call drive.mount(\"/content/drive\", force_remount=True).\n"
          ],
          "name": "stdout"
        }
      ]
    },
    {
      "cell_type": "code",
      "metadata": {
        "id": "LqG-ltjmOMWi"
      },
      "source": [
        "from numpy import array\n",
        "from keras.preprocessing.text import one_hot\n",
        "from keras.preprocessing.sequence import pad_sequences\n",
        "from keras.models import Sequential\n",
        "from keras.layers.core import Activation, Dropout, Dense\n",
        "from keras.layers import Flatten\n",
        "from keras.layers import GlobalMaxPooling1D\n",
        "from keras.layers.embeddings import Embedding\n",
        "from sklearn.model_selection import train_test_split\n",
        "from keras.preprocessing.text import Tokenizer\n",
        "from keras.layers import Conv1D\n",
        "from keras.layers import LSTM"
      ],
      "execution_count": 3,
      "outputs": []
    },
    {
      "cell_type": "code",
      "metadata": {
        "id": "9fvQWsHFH3uG"
      },
      "source": [
        "from google.colab import files\n",
        "# uploaded = files.upload()"
      ],
      "execution_count": 4,
      "outputs": []
    },
    {
      "cell_type": "code",
      "metadata": {
        "id": "xQBSeLOaMmCn"
      },
      "source": [
        "import io\n",
        "data = pd.read_csv('/content/drive/My Drive/Colab Notebooks/IMDB Dataset.csv')"
      ],
      "execution_count": 5,
      "outputs": []
    },
    {
      "cell_type": "code",
      "metadata": {
        "id": "pfybjAybMy_9",
        "colab": {
          "base_uri": "https://localhost:8080/",
          "height": 206
        },
        "outputId": "f30bdb9e-5206-4b77-e5a4-d2029fe08ab8"
      },
      "source": [
        "data.head()"
      ],
      "execution_count": 6,
      "outputs": [
        {
          "output_type": "execute_result",
          "data": {
            "text/html": [
              "<div>\n",
              "<style scoped>\n",
              "    .dataframe tbody tr th:only-of-type {\n",
              "        vertical-align: middle;\n",
              "    }\n",
              "\n",
              "    .dataframe tbody tr th {\n",
              "        vertical-align: top;\n",
              "    }\n",
              "\n",
              "    .dataframe thead th {\n",
              "        text-align: right;\n",
              "    }\n",
              "</style>\n",
              "<table border=\"1\" class=\"dataframe\">\n",
              "  <thead>\n",
              "    <tr style=\"text-align: right;\">\n",
              "      <th></th>\n",
              "      <th>review</th>\n",
              "      <th>sentiment</th>\n",
              "    </tr>\n",
              "  </thead>\n",
              "  <tbody>\n",
              "    <tr>\n",
              "      <th>0</th>\n",
              "      <td>One of the other reviewers has mentioned that ...</td>\n",
              "      <td>positive</td>\n",
              "    </tr>\n",
              "    <tr>\n",
              "      <th>1</th>\n",
              "      <td>A wonderful little production. &lt;br /&gt;&lt;br /&gt;The...</td>\n",
              "      <td>positive</td>\n",
              "    </tr>\n",
              "    <tr>\n",
              "      <th>2</th>\n",
              "      <td>I thought this was a wonderful way to spend ti...</td>\n",
              "      <td>positive</td>\n",
              "    </tr>\n",
              "    <tr>\n",
              "      <th>3</th>\n",
              "      <td>Basically there's a family where a little boy ...</td>\n",
              "      <td>negative</td>\n",
              "    </tr>\n",
              "    <tr>\n",
              "      <th>4</th>\n",
              "      <td>Petter Mattei's \"Love in the Time of Money\" is...</td>\n",
              "      <td>positive</td>\n",
              "    </tr>\n",
              "  </tbody>\n",
              "</table>\n",
              "</div>"
            ],
            "text/plain": [
              "                                              review sentiment\n",
              "0  One of the other reviewers has mentioned that ...  positive\n",
              "1  A wonderful little production. <br /><br />The...  positive\n",
              "2  I thought this was a wonderful way to spend ti...  positive\n",
              "3  Basically there's a family where a little boy ...  negative\n",
              "4  Petter Mattei's \"Love in the Time of Money\" is...  positive"
            ]
          },
          "metadata": {
            "tags": []
          },
          "execution_count": 6
        }
      ]
    },
    {
      "cell_type": "code",
      "metadata": {
        "id": "VjykfjPrGhcg"
      },
      "source": [
        "TAG_RE = re.compile(r'<[^>]+>')\n",
        "\n",
        "def remove_tags(text):\n",
        "    return TAG_RE.sub('', text)"
      ],
      "execution_count": 7,
      "outputs": []
    },
    {
      "cell_type": "code",
      "metadata": {
        "id": "GAXBhvz5GhGn"
      },
      "source": [
        "def preprocess_text(sen):\n",
        "    # Removing html tags\n",
        "    sentence = remove_tags(sen)\n",
        "\n",
        "    # Remove punctuations and numbers\n",
        "    sentence = re.sub('[^a-zA-Z]', ' ', sentence)\n",
        "\n",
        "    # Single character removal\n",
        "    sentence = re.sub(r\"\\s+[a-zA-Z]\\s+\", ' ', sentence)\n",
        "\n",
        "    # Removing multiple spaces\n",
        "    sentence = re.sub(r'\\s+', ' ', sentence)\n",
        "\n",
        "    return sentence"
      ],
      "execution_count": 8,
      "outputs": []
    },
    {
      "cell_type": "code",
      "metadata": {
        "id": "BNj_Dq3PKXUC"
      },
      "source": [
        "# def data_preprocess(data):\n",
        "#   # define and remove tags\n",
        "#   tag_pattern = re.compile(r'<[^>]+>')\n",
        "#   data = re.sub(tag_pattern,'', data)\n",
        "\n",
        "#   # remove anything but letters\n",
        "#   data = re.sub('[^A-Za-z]', ' ', data)\n",
        "\n",
        "#   #remove single charater (letter surrounded by white space)\n",
        "#   data = re.sub(r's+[A-Za-z]\\s+', ' ', data)\n",
        "\n",
        "#   #remove multiple whitespaces\n",
        "#   data = re.sub(r'\\s+', ' ', data)\n",
        "  \n",
        "#   return data"
      ],
      "execution_count": 9,
      "outputs": []
    },
    {
      "cell_type": "code",
      "metadata": {
        "id": "DI-NQcZuLwLH"
      },
      "source": [
        "# looping through firt column in dataset\n",
        "# processing our data and adding to list\n",
        "X = []\n",
        "sentences = data['review']\n",
        "for sentence in sentences:\n",
        "  X.append(preprocess_text(sentence))"
      ],
      "execution_count": 10,
      "outputs": []
    },
    {
      "cell_type": "code",
      "metadata": {
        "id": "Tj44MA78MT1m"
      },
      "source": [
        "# X[3]"
      ],
      "execution_count": 11,
      "outputs": []
    },
    {
      "cell_type": "code",
      "metadata": {
        "id": "x-Kc6pDBNR8z"
      },
      "source": [
        "# repalce words label with number\n",
        "y = data['sentiment']\n",
        "\n",
        "y = np.array(list(map(lambda y: 1 if y=='positive' else 0, y)))"
      ],
      "execution_count": 12,
      "outputs": []
    },
    {
      "cell_type": "code",
      "metadata": {
        "id": "IFRifzUgOFZQ"
      },
      "source": [
        "# y[0]"
      ],
      "execution_count": 13,
      "outputs": []
    },
    {
      "cell_type": "code",
      "metadata": {
        "id": "0OK_3hB8ObuV"
      },
      "source": [
        "X_train, X_test, y_train, y_test = train_test_split(X, y, test_size = 0.20, random_state=42)"
      ],
      "execution_count": 14,
      "outputs": []
    },
    {
      "cell_type": "code",
      "metadata": {
        "id": "s0fDsLv8PJFY"
      },
      "source": [
        "dict_size = 5000\n",
        "# tokenizer\n",
        "tokenier = Tokenizer(dict_size)\n",
        "\n",
        "# something we have to do before next\n",
        "tokenier.fit_on_texts(X_train)\n",
        "\n",
        "# turns train text into indexes\n",
        "X_train = tokenier.texts_to_sequences(X_train)\n",
        "\n",
        "# turns test text into indexes\n",
        "X_test = tokenier.texts_to_sequences(X_test)"
      ],
      "execution_count": 15,
      "outputs": []
    },
    {
      "cell_type": "code",
      "metadata": {
        "id": "II-6neCNbLBn"
      },
      "source": [
        "# X_train[:3]"
      ],
      "execution_count": 16,
      "outputs": []
    },
    {
      "cell_type": "code",
      "metadata": {
        "id": "G1lYTc_czHLt"
      },
      "source": [
        "vocab_size = len(tokenier.word_index) + 1\n",
        "max_len = 100\n",
        "maxlen = 100\n",
        "\n",
        "X_train = pad_sequences(X_train, padding='post', maxlen=maxlen)\n",
        "X_test = pad_sequences(X_test, padding='post', maxlen=maxlen)"
      ],
      "execution_count": 17,
      "outputs": []
    },
    {
      "cell_type": "code",
      "metadata": {
        "id": "OjFFhy6qGOsY"
      },
      "source": [
        "# vocab_size"
      ],
      "execution_count": 18,
      "outputs": []
    },
    {
      "cell_type": "code",
      "metadata": {
        "id": "aGTrhW75cz4W"
      },
      "source": [
        "# X_train[:3]"
      ],
      "execution_count": 19,
      "outputs": []
    },
    {
      "cell_type": "code",
      "metadata": {
        "id": "6_3R7lP-dqok"
      },
      "source": [
        "glove_file = open('/content/drive/My Drive/Colab Notebooks/glove.6B.100d.txt', encoding='utf8')"
      ],
      "execution_count": 20,
      "outputs": []
    },
    {
      "cell_type": "code",
      "metadata": {
        "id": "0bmpNDX4eVpp"
      },
      "source": [
        "from numpy import array\n",
        "from numpy import asarray\n",
        "from numpy import zeros\n",
        "\n",
        "embeddings_dictionary = dict()\n",
        "# glove_file = open('E:/Datasets/Word Embeddings/glove.6B.100d.txt', encoding=\"utf8\")\n",
        "\n",
        "# build our feature matrix\n",
        "for line in glove_file:\n",
        "    records = line.split()\n",
        "    # key is the first element in record (lines in globar vector file)\n",
        "    word = records[0]\n",
        "    # the rest of the recvord goes in as array (hence asarray :))\n",
        "    vector_dimensions = asarray(records[1:], dtype='float32')\n",
        "    # finally, we fill the dictionery with word as key (first elemnt in glove file lines)\n",
        "    # and the rest of the line as it's value\n",
        "    embeddings_dictionary [word] = vector_dimensions\n",
        "glove_file.close()"
      ],
      "execution_count": 21,
      "outputs": []
    },
    {
      "cell_type": "code",
      "metadata": {
        "id": "J-VeQdlrex5A"
      },
      "source": [
        "# define matrix of zeroes with rows equal to vocab size (length of word index)\n",
        "# and colums equals to 100\n",
        "embedding_matrix = zeros((vocab_size, 100))\n",
        "\n",
        "# loop through word_index items\n",
        "# vocab size varible means embedding_matrix has same size as word_index\n",
        "for word, index in tokenier.word_index.items():\n",
        "  # need to check with this again (what exactly is word in both collections)\n",
        "    embedding_vector = embeddings_dictionary.get(word)\n",
        "    # if word (looping thorugh word_index) exists in glove (embeddings_dictionary)\n",
        "    if embedding_vector is not None:\n",
        "        embedding_matrix[index] = embedding_vector"
      ],
      "execution_count": 22,
      "outputs": []
    },
    {
      "cell_type": "markdown",
      "metadata": {
        "id": "acp772nx4uU_"
      },
      "source": [
        ""
      ]
    },
    {
      "cell_type": "markdown",
      "metadata": {
        "id": "LthH257Z30BQ"
      },
      "source": [
        "Word on Neural Network:\n",
        "Simple NN: not much to tell about it, simple.\n",
        "\n",
        "Convnoutal NN: works with 2D data, like images, but we can convert it to 1D to work with text.\n",
        "\n",
        "Recurrent NN: Works with sequence of data which makes it great for working with text"
      ]
    },
    {
      "cell_type": "markdown",
      "metadata": {
        "id": "sJ55aI_H4tCo"
      },
      "source": [
        "Let's go!"
      ]
    },
    {
      "cell_type": "markdown",
      "metadata": {
        "id": "zbOiMNYbPjm-"
      },
      "source": [
        "Simple Neural Network:"
      ]
    },
    {
      "cell_type": "code",
      "metadata": {
        "id": "7w-0TQaonmlP"
      },
      "source": [
        "# define model\n",
        "model = Sequential()\n",
        "\n",
        "# define embedding layer: Embedding layer enables us to convert each word into a fixed length vector of defined size\n",
        "embedding_layer = Embedding(vocab_size, 100, weights=[embedding_matrix], input_length=maxlen , trainable=False)\n",
        "#adding it\n",
        "model.add(embedding_layer)\n",
        "\n",
        "#adding flatten layer: Flattening is converting the data into a 1-dimensional array for inputting it to the next layer\n",
        "model.add(Flatten())\n",
        "\n",
        "#adding dense layer: a dense layer is simply a layer where each unit or neuron is connected to each neuron in the next layer.\n",
        "# the guy also chose sigmoid activation function:\n",
        "# An activation function in a neural network defines how the weighted sum of the input... \n",
        "# ...is transformed into an output from a node or nodes in a layer of the network.\n",
        "model.add(Dense(1, activation='sigmoid'))"
      ],
      "execution_count": 23,
      "outputs": []
    },
    {
      "cell_type": "code",
      "metadata": {
        "id": "E-_y4eH3oPGl",
        "colab": {
          "base_uri": "https://localhost:8080/"
        },
        "outputId": "bce2d811-8c86-4c2f-ed1c-1bb64d8fa0e2"
      },
      "source": [
        "model.compile(optimizer='adam', loss='binary_crossentropy', metrics=['acc'])\n",
        "# optimizer: Optimizers are algorithms or methods used to change the attributes of the neural network\n",
        "# such as weights and learning rate to reduce the losses\n",
        "# loss: The purpose of loss functions is to compute the quantity that a model should seek to minimize during training.\n",
        "# metrics: A metric is a function that is used to judge the performance of your model.\n",
        "\n",
        "print(model.summary())"
      ],
      "execution_count": 24,
      "outputs": [
        {
          "output_type": "stream",
          "text": [
            "Model: \"sequential\"\n",
            "_________________________________________________________________\n",
            "Layer (type)                 Output Shape              Param #   \n",
            "=================================================================\n",
            "embedding (Embedding)        (None, 100, 100)          9254700   \n",
            "_________________________________________________________________\n",
            "flatten (Flatten)            (None, 10000)             0         \n",
            "_________________________________________________________________\n",
            "dense (Dense)                (None, 1)                 10001     \n",
            "=================================================================\n",
            "Total params: 9,264,701\n",
            "Trainable params: 10,001\n",
            "Non-trainable params: 9,254,700\n",
            "_________________________________________________________________\n",
            "None\n"
          ],
          "name": "stdout"
        }
      ]
    },
    {
      "cell_type": "code",
      "metadata": {
        "id": "CqlRUZwkqWT3",
        "colab": {
          "base_uri": "https://localhost:8080/"
        },
        "outputId": "e42d78f5-7f80-4cbe-b552-306ba7cab1e5"
      },
      "source": [
        "# this cell is where the training happens:\n",
        "history = model.fit(X_train, y_train, batch_size=128, epochs=6, verbose=1, validation_split=0.2)\n",
        "# epoch: In an epoch, we use all of the data exactly once (cycle)\n",
        "# validation_split: Float between 0 and 1. Fraction of the training data to be used as validation data\n",
        "# 0.2 means that 20% of the training data is used to find the training accuracy of the algorithm."
      ],
      "execution_count": 25,
      "outputs": [
        {
          "output_type": "stream",
          "text": [
            "Epoch 1/6\n",
            "250/250 [==============================] - 14s 6ms/step - loss: 0.6615 - acc: 0.6089 - val_loss: 0.5514 - val_acc: 0.7168\n",
            "Epoch 2/6\n",
            "250/250 [==============================] - 1s 4ms/step - loss: 0.4992 - acc: 0.7596 - val_loss: 0.5199 - val_acc: 0.7385\n",
            "Epoch 3/6\n",
            "250/250 [==============================] - 1s 4ms/step - loss: 0.4524 - acc: 0.7911 - val_loss: 0.5230 - val_acc: 0.7412\n",
            "Epoch 4/6\n",
            "250/250 [==============================] - 1s 3ms/step - loss: 0.4306 - acc: 0.8057 - val_loss: 0.5479 - val_acc: 0.7285\n",
            "Epoch 5/6\n",
            "250/250 [==============================] - 1s 4ms/step - loss: 0.4197 - acc: 0.8084 - val_loss: 0.5261 - val_acc: 0.7436\n",
            "Epoch 6/6\n",
            "250/250 [==============================] - 1s 4ms/step - loss: 0.4009 - acc: 0.8215 - val_loss: 0.5327 - val_acc: 0.7469\n"
          ],
          "name": "stdout"
        }
      ]
    },
    {
      "cell_type": "code",
      "metadata": {
        "id": "NUce1SJSrBzK",
        "colab": {
          "base_uri": "https://localhost:8080/"
        },
        "outputId": "7486ee9e-87e8-4397-9083-b942edfabf50"
      },
      "source": [
        "score = model.evaluate(X_test, y_test, verbose=1)"
      ],
      "execution_count": 26,
      "outputs": [
        {
          "output_type": "stream",
          "text": [
            "313/313 [==============================] - 0s 1ms/step - loss: 0.5351 - acc: 0.7436\n"
          ],
          "name": "stdout"
        }
      ]
    },
    {
      "cell_type": "code",
      "metadata": {
        "id": "2nYKyVyArGlK",
        "colab": {
          "base_uri": "https://localhost:8080/"
        },
        "outputId": "f1e0d12c-6396-4754-d673-58ad1798f526"
      },
      "source": [
        "# To check the test accuracy and loss, execute the following script:\n",
        "print(\"Test Score:\", score[0])\n",
        "print(\"Test Accuracy:\", score[1])"
      ],
      "execution_count": 27,
      "outputs": [
        {
          "output_type": "stream",
          "text": [
            "Test Score: 0.5350878238677979\n",
            "Test Accuracy: 0.7436000108718872\n"
          ],
          "name": "stdout"
        }
      ]
    },
    {
      "cell_type": "markdown",
      "metadata": {
        "id": "9thY6mOzrYEY"
      },
      "source": [
        "Once you execute the above script, you will see that we get a test accuracy of 74.68%. Our training accuracy was 85.52%. This means that our model is overfitting on the training set. Overfitting occurs when your model performs better on the training set than the test set. Ideally, the performance difference between training and test sets should be minimum.\n",
        "\n"
      ]
    },
    {
      "cell_type": "code",
      "metadata": {
        "id": "zDWNmqmZFQss"
      },
      "source": [
        "import matplotlib.pyplot as plt"
      ],
      "execution_count": 28,
      "outputs": []
    },
    {
      "cell_type": "code",
      "metadata": {
        "id": "TcEIlIEPy5Kt"
      },
      "source": [
        "# Note on plotting:\n",
        "# this is what histor.history looks like:\n",
        "# {'acc': [0.7544062733650208,\n",
        "#   0.8369062542915344,\n",
        "#   0.8641562461853027,\n",
        "#   0.8870624899864197,\n",
        "#   0.8983749747276306,\n",
        "#   0.9220312237739563],\n",
        "#  'loss': [0.49604183435440063,\n",
        "#   0.3705410063266754,\n",
        "#   0.3204140067100525,\n",
        "#   0.27911317348480225,\n",
        "#   0.2528165876865387,\n",
        "#   0.21523945033550262],\n",
        "#  'val_acc': [0.8197500109672546,\n",
        "#   0.8396250009536743,\n",
        "#   0.8361250162124634,\n",
        "#   0.8501250147819519,\n",
        "#   0.8497499823570251,\n",
        "#   0.8521249890327454],\n",
        "#  'val_loss': [0.39696407318115234,\n",
        "#   0.36161020398139954,\n",
        "#   0.36183205246925354,\n",
        "#   0.3399807810783386,\n",
        "#   0.3386904299259186,"
      ],
      "execution_count": 29,
      "outputs": []
    },
    {
      "cell_type": "code",
      "metadata": {
        "id": "tHUXbQQKrZN8",
        "colab": {
          "base_uri": "https://localhost:8080/",
          "height": 611
        },
        "outputId": "8f214a5d-847f-43b7-f81d-892c0e3cbcdb"
      },
      "source": [
        "plt.plot(history.history['acc'])\n",
        "plt.plot(history.history['val_acc'])\n",
        "\n",
        "plt.title('model accuracy')\n",
        "plt.ylabel('accuracy')\n",
        "plt.xlabel('epoch')\n",
        "plt.legend(['train','test'], loc='upper left')\n",
        "plt.show()\n",
        "\n",
        "print('\\n')\n",
        "\n",
        "plt.plot(history.history['loss'])\n",
        "plt.plot(history.history['val_loss'])\n",
        "\n",
        "plt.title('model loss')\n",
        "plt.ylabel('loss')\n",
        "plt.xlabel('epoch')\n",
        "plt.legend(['train','test'], loc='upper left')\n",
        "plt.show()"
      ],
      "execution_count": 30,
      "outputs": [
        {
          "output_type": "display_data",
          "data": {
            "image/png": "[encoded data removed]",
            "text/plain": [
              "<Figure size 432x288 with 1 Axes>"
            ]
          },
          "metadata": {
            "tags": [],
            "needs_background": "light"
          }
        },
        {
          "output_type": "stream",
          "text": [
            "\n",
            "\n"
          ],
          "name": "stdout"
        },
        {
          "output_type": "display_data",
          "data": {
            "image/png": "[encoded data removed]",
            "text/plain": [
              "<Figure size 432x288 with 1 Axes>"
            ]
          },
          "metadata": {
            "tags": [],
            "needs_background": "light"
          }
        }
      ]
    },
    {
      "cell_type": "markdown",
      "metadata": {
        "id": "SOO8TcaCPVXU"
      },
      "source": [
        "why does the graph fluctuate??? es[ically at 2 and 4 epochs"
      ]
    },
    {
      "cell_type": "code",
      "metadata": {
        "id": "8f7OHIGGPdRl"
      },
      "source": [
        "# Convolutional Neural Network:"
      ],
      "execution_count": 31,
      "outputs": []
    },
    {
      "cell_type": "code",
      "metadata": {
        "id": "8El7N4dSPpXl"
      },
      "source": [
        "model = Sequential()\n",
        "\n",
        "# typical stuff\n",
        "embedding_layer = Embedding(vocab_size, 100, weights=[embedding_matrix], input_length=maxlen, trainable=False)\n",
        "model.add(embedding_layer)\n",
        "\n",
        "# this is the convolutional part of cnn\n",
        "# cnn is 2d (images) so we use 1D\n",
        "# from docs: This layer creates a convolution kernel that is convolved with the layer\n",
        "# input over a single spatial dimension to produce a tensor of outputs\n",
        "model.add(Conv1D(128, 5, activation='relu'))\n",
        "\n",
        "# Downsamples the input representation by taking the maximum value over the time dimension\n",
        "model.add(GlobalMaxPooling1D())\n",
        "\n",
        "# also typical stuff\n",
        "model.add(Dense(1, activation='sigmoid'))\n",
        "model.compile(optimizer='adam', loss='binary_crossentropy', metrics=['acc'])"
      ],
      "execution_count": 32,
      "outputs": []
    },
    {
      "cell_type": "code",
      "metadata": {
        "id": "SF1Sv-DKSaq_",
        "colab": {
          "base_uri": "https://localhost:8080/"
        },
        "outputId": "97d9c5c4-a447-47ef-dec1-c86a8d479d31"
      },
      "source": [
        "print(model.summary())"
      ],
      "execution_count": 33,
      "outputs": [
        {
          "output_type": "stream",
          "text": [
            "Model: \"sequential_1\"\n",
            "_________________________________________________________________\n",
            "Layer (type)                 Output Shape              Param #   \n",
            "=================================================================\n",
            "embedding_1 (Embedding)      (None, 100, 100)          9254700   \n",
            "_________________________________________________________________\n",
            "conv1d (Conv1D)              (None, 96, 128)           64128     \n",
            "_________________________________________________________________\n",
            "global_max_pooling1d (Global (None, 128)               0         \n",
            "_________________________________________________________________\n",
            "dense_1 (Dense)              (None, 1)                 129       \n",
            "=================================================================\n",
            "Total params: 9,318,957\n",
            "Trainable params: 64,257\n",
            "Non-trainable params: 9,254,700\n",
            "_________________________________________________________________\n",
            "None\n"
          ],
          "name": "stdout"
        }
      ]
    },
    {
      "cell_type": "code",
      "metadata": {
        "id": "dmL4ibsDnH2h",
        "colab": {
          "base_uri": "https://localhost:8080/"
        },
        "outputId": "e569b122-e5c5-4200-d4b0-111d4983e2ce"
      },
      "source": [
        "history = model.fit(X_train, y_train, batch_size=128, epochs=6, verbose=1, validation_split=0.2)"
      ],
      "execution_count": 34,
      "outputs": [
        {
          "output_type": "stream",
          "text": [
            "Epoch 1/6\n",
            "250/250 [==============================] - 19s 68ms/step - loss: 0.6424 - acc: 0.6582 - val_loss: 0.4064 - val_acc: 0.8127\n",
            "Epoch 2/6\n",
            "250/250 [==============================] - 17s 67ms/step - loss: 0.3787 - acc: 0.8341 - val_loss: 0.3888 - val_acc: 0.8191\n",
            "Epoch 3/6\n",
            "250/250 [==============================] - 17s 67ms/step - loss: 0.3257 - acc: 0.8644 - val_loss: 0.3541 - val_acc: 0.8419\n",
            "Epoch 4/6\n",
            "250/250 [==============================] - 17s 67ms/step - loss: 0.2820 - acc: 0.8876 - val_loss: 0.3460 - val_acc: 0.8476\n",
            "Epoch 5/6\n",
            "250/250 [==============================] - 17s 66ms/step - loss: 0.2425 - acc: 0.9096 - val_loss: 0.3967 - val_acc: 0.8276\n",
            "Epoch 6/6\n",
            "250/250 [==============================] - 17s 67ms/step - loss: 0.2188 - acc: 0.9177 - val_loss: 0.3818 - val_acc: 0.8359\n"
          ],
          "name": "stdout"
        }
      ]
    },
    {
      "cell_type": "code",
      "metadata": {
        "id": "ioDqFFO-ycST",
        "colab": {
          "base_uri": "https://localhost:8080/"
        },
        "outputId": "8ea43566-ef04-438f-9d9d-f62ada526495"
      },
      "source": [
        "history.history"
      ],
      "execution_count": 35,
      "outputs": [
        {
          "output_type": "execute_result",
          "data": {
            "text/plain": [
              "{'acc': [0.7365937232971191,\n",
              "  0.8325312733650208,\n",
              "  0.8616250157356262,\n",
              "  0.8830937743186951,\n",
              "  0.9041875004768372,\n",
              "  0.9164062738418579],\n",
              " 'loss': [0.5274112224578857,\n",
              "  0.37995395064353943,\n",
              "  0.326698899269104,\n",
              "  0.2874608337879181,\n",
              "  0.2482115626335144,\n",
              "  0.2213946133852005],\n",
              " 'val_acc': [0.812749981880188,\n",
              "  0.8191249966621399,\n",
              "  0.8418750166893005,\n",
              "  0.8476250171661377,\n",
              "  0.8276249766349792,\n",
              "  0.8358749747276306],\n",
              " 'val_loss': [0.4064137637615204,\n",
              "  0.3888450562953949,\n",
              "  0.354104608297348,\n",
              "  0.3459564745426178,\n",
              "  0.3967273533344269,\n",
              "  0.3818471133708954]}"
            ]
          },
          "metadata": {
            "tags": []
          },
          "execution_count": 35
        }
      ]
    },
    {
      "cell_type": "code",
      "metadata": {
        "id": "KTn-WYc3nQv-",
        "colab": {
          "base_uri": "https://localhost:8080/"
        },
        "outputId": "dce726b8-96b0-4b59-8274-d126f6eec218"
      },
      "source": [
        "score = model.evaluate(X_test, y_test, verbose=1)"
      ],
      "execution_count": 36,
      "outputs": [
        {
          "output_type": "stream",
          "text": [
            "313/313 [==============================] - 2s 8ms/step - loss: 0.3763 - acc: 0.8317\n"
          ],
          "name": "stdout"
        }
      ]
    },
    {
      "cell_type": "code",
      "metadata": {
        "colab": {
          "base_uri": "https://localhost:8080/",
          "height": 611
        },
        "id": "DE4IdD5Wn2PF",
        "outputId": "a1ce3e8b-602e-4e4e-9749-add03bb55325"
      },
      "source": [
        "plt.plot(history.history['acc'])\n",
        "plt.plot(history.history['val_acc'])\n",
        "\n",
        "plt.title('model accuracy')\n",
        "plt.ylabel('accuracy')\n",
        "plt.xlabel('epoch')\n",
        "plt.legend(['train','test'], loc = 'upper left')\n",
        "plt.show()\n",
        "\n",
        "print('\\n')\n",
        "\n",
        "plt.plot(history.history['loss'])\n",
        "plt.plot(history.history['val_loss'])\n",
        "\n",
        "plt.title('model loss')\n",
        "plt.ylabel('loss')\n",
        "plt.xlabel('epoch')\n",
        "plt.legend(['train','test'], loc = 'upper left')\n",
        "plt.show()"
      ],
      "execution_count": 37,
      "outputs": [
        {
          "output_type": "display_data",
          "data": {
            "image/png": "[encoded data removed]",
            "text/plain": [
              "<Figure size 432x288 with 1 Axes>"
            ]
          },
          "metadata": {
            "tags": [],
            "needs_background": "light"
          }
        },
        {
          "output_type": "stream",
          "text": [
            "\n",
            "\n"
          ],
          "name": "stdout"
        },
        {
          "output_type": "display_data",
          "data": {
            "image/png": "[encoded data removed]",
            "text/plain": [
              "<Figure size 432x288 with 1 Axes>"
            ]
          },
          "metadata": {
            "tags": [],
            "needs_background": "light"
          }
        }
      ]
    },
    {
      "cell_type": "markdown",
      "metadata": {
        "id": "d55szzZszUFF"
      },
      "source": [
        "Recurrent Neural Network (LSTM: long short-term memorey):"
      ]
    },
    {
      "cell_type": "code",
      "metadata": {
        "id": "3Zh69RqZzbe2"
      },
      "source": [
        "model = Sequential()\n",
        "embedding_layer = Embedding(vocab_size, 100, weights=[embedding_matrix], input_length=maxlen , trainable=False)\n",
        "model.add(embedding_layer)\n",
        "# I'm not sure what 128 stands for, articale says neurons\n",
        "# however docs does not have that, they have units\n",
        "# are units and neurons the same????????\n",
        "# I need to check patamters\n",
        "model.add(LSTM(128))\n",
        "\n",
        "model.add(Dense(1, activation='sigmoid'))\n",
        "model.compile(optimizer='adam', loss='binary_crossentropy', metrics=['acc'])"
      ],
      "execution_count": 38,
      "outputs": []
    },
    {
      "cell_type": "code",
      "metadata": {
        "id": "yXvNvJha28Hw",
        "colab": {
          "base_uri": "https://localhost:8080/"
        },
        "outputId": "6b349fe9-c82a-4008-b812-2b0be9c27cd3"
      },
      "source": [
        "print(model.summary())"
      ],
      "execution_count": 39,
      "outputs": [
        {
          "output_type": "stream",
          "text": [
            "Model: \"sequential_2\"\n",
            "_________________________________________________________________\n",
            "Layer (type)                 Output Shape              Param #   \n",
            "=================================================================\n",
            "embedding_2 (Embedding)      (None, 100, 100)          9254700   \n",
            "_________________________________________________________________\n",
            "lstm (LSTM)                  (None, 128)               117248    \n",
            "_________________________________________________________________\n",
            "dense_2 (Dense)              (None, 1)                 129       \n",
            "=================================================================\n",
            "Total params: 9,372,077\n",
            "Trainable params: 117,377\n",
            "Non-trainable params: 9,254,700\n",
            "_________________________________________________________________\n",
            "None\n"
          ],
          "name": "stdout"
        }
      ]
    },
    {
      "cell_type": "code",
      "metadata": {
        "id": "RtU8MsGz2-rn",
        "colab": {
          "base_uri": "https://localhost:8080/"
        },
        "outputId": "c2182bba-9d07-4e01-9e8e-b046d023796a"
      },
      "source": [
        "history = model.fit(X_train, y_train, batch_size=128, epochs=6, verbose=1, validation_split=0.2)"
      ],
      "execution_count": 40,
      "outputs": [
        {
          "output_type": "stream",
          "text": [
            "Epoch 1/6\n",
            "250/250 [==============================] - 60s 221ms/step - loss: 0.6384 - acc: 0.6247 - val_loss: 0.4909 - val_acc: 0.7730\n",
            "Epoch 2/6\n",
            "250/250 [==============================] - 54s 217ms/step - loss: 0.4790 - acc: 0.7748 - val_loss: 0.4221 - val_acc: 0.8040\n",
            "Epoch 3/6\n",
            "250/250 [==============================] - 54s 217ms/step - loss: 0.4133 - acc: 0.8114 - val_loss: 0.3796 - val_acc: 0.8278\n",
            "Epoch 4/6\n",
            "250/250 [==============================] - 54s 218ms/step - loss: 0.3762 - acc: 0.8312 - val_loss: 0.3600 - val_acc: 0.8415\n",
            "Epoch 5/6\n",
            "250/250 [==============================] - 57s 228ms/step - loss: 0.3483 - acc: 0.8476 - val_loss: 0.3500 - val_acc: 0.8489\n",
            "Epoch 6/6\n",
            "250/250 [==============================] - 55s 219ms/step - loss: 0.3357 - acc: 0.8534 - val_loss: 0.3463 - val_acc: 0.8466\n"
          ],
          "name": "stdout"
        }
      ]
    },
    {
      "cell_type": "code",
      "metadata": {
        "id": "oXL8gH9a3BDc",
        "colab": {
          "base_uri": "https://localhost:8080/"
        },
        "outputId": "2677d620-121e-4ba1-d843-6ec510ae429a"
      },
      "source": [
        "score = model.evaluate(X_test, y_test, verbose=1)"
      ],
      "execution_count": 41,
      "outputs": [
        {
          "output_type": "stream",
          "text": [
            "313/313 [==============================] - 8s 24ms/step - loss: 0.3427 - acc: 0.8453\n"
          ],
          "name": "stdout"
        }
      ]
    },
    {
      "cell_type": "code",
      "metadata": {
        "id": "3hacdH3A44wO",
        "colab": {
          "base_uri": "https://localhost:8080/"
        },
        "outputId": "bea10cf6-b7bf-483e-99c8-f1929061afa0"
      },
      "source": [
        "print(\"Test Score:\", score[0])\n",
        "print(\"Test Accuracy:\", score[1])"
      ],
      "execution_count": 42,
      "outputs": [
        {
          "output_type": "stream",
          "text": [
            "Test Score: 0.3426561951637268\n",
            "Test Accuracy: 0.845300018787384\n"
          ],
          "name": "stdout"
        }
      ]
    },
    {
      "cell_type": "code",
      "metadata": {
        "id": "z2YjtEvt48o8",
        "colab": {
          "base_uri": "https://localhost:8080/",
          "height": 611
        },
        "outputId": "171f8f4c-1b0a-4739-ecc0-69e3bb9d5141"
      },
      "source": [
        "plt.plot(history.history['acc'])\n",
        "plt.plot(history.history['val_acc'])\n",
        "\n",
        "plt.title('model accuracy')\n",
        "plt.ylabel('accuracy')\n",
        "plt.xlabel('epoch')\n",
        "plt.legend(['train','test'], loc='upper left')\n",
        "plt.show()\n",
        "\n",
        "print('\\n')\n",
        "\n",
        "plt.plot(history.history['loss'])\n",
        "plt.plot(history.history['val_loss'])\n",
        "\n",
        "plt.title('model loss')\n",
        "plt.ylabel('loss')\n",
        "plt.xlabel('epoch')\n",
        "plt.legend(['train','test'], loc='upper left')\n",
        "plt.show()"
      ],
      "execution_count": 43,
      "outputs": [
        {
          "output_type": "display_data",
          "data": {
            "image/png": "[encoded data removed]",
            "text/plain": [
              "<Figure size 432x288 with 1 Axes>"
            ]
          },
          "metadata": {
            "tags": [],
            "needs_background": "light"
          }
        },
        {
          "output_type": "stream",
          "text": [
            "\n",
            "\n"
          ],
          "name": "stdout"
        },
        {
          "output_type": "display_data",
          "data": {
            "image/png": "[encoded data removed]",
            "text/plain": [
              "<Figure size 432x288 with 1 Axes>"
            ]
          },
          "metadata": {
            "tags": [],
            "needs_background": "light"
          }
        }
      ]
    },
    {
      "cell_type": "markdown",
      "metadata": {
        "id": "kXRJ4ZbQ5NIn"
      },
      "source": [
        "TODO: change the number of layers, number of neurons and activation functions for all three neural networks discussed in this article and see which neural network works best for you."
      ]
    }
  ]
}