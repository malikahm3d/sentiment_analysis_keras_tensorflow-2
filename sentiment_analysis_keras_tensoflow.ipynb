{
  "nbformat": 4,
  "nbformat_minor": 0,
  "metadata": {
    "colab": {
      "name": "sentiment-analysis-keras-tensoflow.ipynb",
      "provenance": [],
      "collapsed_sections": [],
      "mount_file_id": "1kUmT4JK3M7gHr6GUid5EOpR-Mcsvqmr1",
      "authorship_tag": "ABX9TyOqTTSsSOCwDRYAc4JKhg9J",
      "include_colab_link": true
    },
    "kernelspec": {
      "name": "python3",
      "display_name": "Python 3"
    },
    "language_info": {
      "name": "python"
    }
  },
  "cells": [
    {
      "cell_type": "markdown",
      "metadata": {
        "id": "view-in-github",
        "colab_type": "text"
      },
      "source": [
        "<a href=\"https://colab.research.google.com/github/malikalnser/sentiment_analysis_keras_tensoflow-2/blob/main/sentiment_analysis_keras_tensoflow.ipynb\" target=\"_parent\"><img src=\"https://colab.research.google.com/assets/colab-badge.svg\" alt=\"Open In Colab\"/></a>"
      ]
    },
    {
      "cell_type": "code",
      "metadata": {
        "id": "Hv1j7lY9GvFg"
      },
      "source": [
        "import pandas as pd\n",
        "import numpy as np\n",
        "import re\n",
        "import csv"
      ],
      "execution_count": null,
      "outputs": []
    },
    {
      "cell_type": "code",
      "metadata": {
        "id": "kBQ4oz_BWBXn",
        "colab": {
          "base_uri": "https://localhost:8080/"
        },
        "outputId": "dcdab882-c0ea-4eca-db5d-12670fff1c6f"
      },
      "source": [
        "from google.colab import drive\n",
        "drive.mount('/content/drive')"
      ],
      "execution_count": null,
      "outputs": [
        {
          "output_type": "stream",
          "text": [
            "Drive already mounted at /content/drive; to attempt to forcibly remount, call drive.mount(\"/content/drive\", force_remount=True).\n"
          ],
          "name": "stdout"
        }
      ]
    },
    {
      "cell_type": "code",
      "metadata": {
        "id": "LqG-ltjmOMWi"
      },
      "source": [
        "from numpy import array\n",
        "from keras.preprocessing.text import one_hot\n",
        "from keras.preprocessing.sequence import pad_sequences\n",
        "from keras.models import Sequential\n",
        "from keras.layers.core import Activation, Dropout, Dense\n",
        "from keras.layers import Flatten\n",
        "from keras.layers import GlobalMaxPooling1D\n",
        "from keras.layers.embeddings import Embedding\n",
        "from sklearn.model_selection import train_test_split\n",
        "from keras.preprocessing.text import Tokenizer\n",
        "from keras.layers import Conv1D\n",
        "from keras.layers import LSTM"
      ],
      "execution_count": null,
      "outputs": []
    },
    {
      "cell_type": "code",
      "metadata": {
        "id": "9fvQWsHFH3uG"
      },
      "source": [
        "from google.colab import files\n",
        "# uploaded = files.upload()"
      ],
      "execution_count": null,
      "outputs": []
    },
    {
      "cell_type": "code",
      "metadata": {
        "id": "xQBSeLOaMmCn"
      },
      "source": [
        "import io\n",
        "data = pd.read_csv('/content/drive/My Drive/Colab Notebooks/IMDB Dataset.csv')"
      ],
      "execution_count": null,
      "outputs": []
    },
    {
      "cell_type": "code",
      "metadata": {
        "id": "pfybjAybMy_9",
        "colab": {
          "base_uri": "https://localhost:8080/",
          "height": 206
        },
        "outputId": "ae95723e-955a-4d77-9ac6-49952e7e34f5"
      },
      "source": [
        "data.head()"
      ],
      "execution_count": null,
      "outputs": [
        {
          "output_type": "execute_result",
          "data": {
            "text/html": [
              "<div>\n",
              "<style scoped>\n",
              "    .dataframe tbody tr th:only-of-type {\n",
              "        vertical-align: middle;\n",
              "    }\n",
              "\n",
              "    .dataframe tbody tr th {\n",
              "        vertical-align: top;\n",
              "    }\n",
              "\n",
              "    .dataframe thead th {\n",
              "        text-align: right;\n",
              "    }\n",
              "</style>\n",
              "<table border=\"1\" class=\"dataframe\">\n",
              "  <thead>\n",
              "    <tr style=\"text-align: right;\">\n",
              "      <th></th>\n",
              "      <th>review</th>\n",
              "      <th>sentiment</th>\n",
              "    </tr>\n",
              "  </thead>\n",
              "  <tbody>\n",
              "    <tr>\n",
              "      <th>0</th>\n",
              "      <td>One of the other reviewers has mentioned that ...</td>\n",
              "      <td>positive</td>\n",
              "    </tr>\n",
              "    <tr>\n",
              "      <th>1</th>\n",
              "      <td>A wonderful little production. &lt;br /&gt;&lt;br /&gt;The...</td>\n",
              "      <td>positive</td>\n",
              "    </tr>\n",
              "    <tr>\n",
              "      <th>2</th>\n",
              "      <td>I thought this was a wonderful way to spend ti...</td>\n",
              "      <td>positive</td>\n",
              "    </tr>\n",
              "    <tr>\n",
              "      <th>3</th>\n",
              "      <td>Basically there's a family where a little boy ...</td>\n",
              "      <td>negative</td>\n",
              "    </tr>\n",
              "    <tr>\n",
              "      <th>4</th>\n",
              "      <td>Petter Mattei's \"Love in the Time of Money\" is...</td>\n",
              "      <td>positive</td>\n",
              "    </tr>\n",
              "  </tbody>\n",
              "</table>\n",
              "</div>"
            ],
            "text/plain": [
              "                                              review sentiment\n",
              "0  One of the other reviewers has mentioned that ...  positive\n",
              "1  A wonderful little production. <br /><br />The...  positive\n",
              "2  I thought this was a wonderful way to spend ti...  positive\n",
              "3  Basically there's a family where a little boy ...  negative\n",
              "4  Petter Mattei's \"Love in the Time of Money\" is...  positive"
            ]
          },
          "metadata": {
            "tags": []
          },
          "execution_count": 6
        }
      ]
    },
    {
      "cell_type": "code",
      "metadata": {
        "id": "VjykfjPrGhcg"
      },
      "source": [
        "TAG_RE = re.compile(r'<[^>]+>')\n",
        "\n",
        "def remove_tags(text):\n",
        "    return TAG_RE.sub('', text)"
      ],
      "execution_count": null,
      "outputs": []
    },
    {
      "cell_type": "code",
      "metadata": {
        "id": "GAXBhvz5GhGn"
      },
      "source": [
        "def preprocess_text(sen):\n",
        "    # Removing html tags\n",
        "    sentence = remove_tags(sen)\n",
        "\n",
        "    # Remove punctuations and numbers\n",
        "    sentence = re.sub('[^a-zA-Z]', ' ', sentence)\n",
        "\n",
        "    # Single character removal\n",
        "    sentence = re.sub(r\"\\s+[a-zA-Z]\\s+\", ' ', sentence)\n",
        "\n",
        "    # Removing multiple spaces\n",
        "    sentence = re.sub(r'\\s+', ' ', sentence)\n",
        "\n",
        "    return sentence"
      ],
      "execution_count": null,
      "outputs": []
    },
    {
      "cell_type": "code",
      "metadata": {
        "id": "BNj_Dq3PKXUC"
      },
      "source": [
        "# def data_preprocess(data):\n",
        "#   # define and remove tags\n",
        "#   tag_pattern = re.compile(r'<[^>]+>')\n",
        "#   data = re.sub(tag_pattern,'', data)\n",
        "\n",
        "#   # remove anything but letters\n",
        "#   data = re.sub('[^A-Za-z]', ' ', data)\n",
        "\n",
        "#   #remove single charater (letter surrounded by white space)\n",
        "#   data = re.sub(r's+[A-Za-z]\\s+', ' ', data)\n",
        "\n",
        "#   #remove multiple whitespaces\n",
        "#   data = re.sub(r'\\s+', ' ', data)\n",
        "  \n",
        "#   return data"
      ],
      "execution_count": null,
      "outputs": []
    },
    {
      "cell_type": "code",
      "metadata": {
        "id": "DI-NQcZuLwLH"
      },
      "source": [
        "# looping through firt column in dataset\n",
        "# processing our data and adding to list\n",
        "X = []\n",
        "sentences = data['review']\n",
        "for sentence in sentences:\n",
        "  X.append(preprocess_text(sentence))"
      ],
      "execution_count": null,
      "outputs": []
    },
    {
      "cell_type": "code",
      "metadata": {
        "id": "Tj44MA78MT1m",
        "colab": {
          "base_uri": "https://localhost:8080/",
          "height": 130
        },
        "outputId": "78deb253-f55d-4e30-80b3-32d95ef820e7"
      },
      "source": [
        "X[3]"
      ],
      "execution_count": null,
      "outputs": [
        {
          "output_type": "execute_result",
          "data": {
            "application/vnd.google.colaboratory.intrinsic+json": {
              "type": "string"
            },
            "text/plain": [
              "'Basically there a family where little boy Jake thinks there a zombie in his closet his parents are fighting all the time This movie is slower than soap opera and suddenly Jake decides to become Rambo and kill the zombie OK first of all when you re going to make film you must Decide if its thriller or drama As drama the movie is watchable Parents are divorcing arguing like in real life And then we have Jake with his closet which totally ruins all the film expected to see BOOGEYMAN similar movie and instead watched drama with some meaningless thriller spots out of just for the well playing parents descent dialogs As for the shots with Jake just ignore them '"
            ]
          },
          "metadata": {
            "tags": []
          },
          "execution_count": 11
        }
      ]
    },
    {
      "cell_type": "code",
      "metadata": {
        "id": "x-Kc6pDBNR8z"
      },
      "source": [
        "# repalce words label with number\n",
        "y = data['sentiment']\n",
        "\n",
        "y = np.array(list(map(lambda y: 1 if y=='positive' else 0, y)))"
      ],
      "execution_count": null,
      "outputs": []
    },
    {
      "cell_type": "code",
      "metadata": {
        "id": "IFRifzUgOFZQ",
        "colab": {
          "base_uri": "https://localhost:8080/"
        },
        "outputId": "adfc62ed-2db4-415d-9ae7-3e755f7daf75"
      },
      "source": [
        "y[0]"
      ],
      "execution_count": null,
      "outputs": [
        {
          "output_type": "execute_result",
          "data": {
            "text/plain": [
              "1"
            ]
          },
          "metadata": {
            "tags": []
          },
          "execution_count": 13
        }
      ]
    },
    {
      "cell_type": "code",
      "metadata": {
        "id": "0OK_3hB8ObuV"
      },
      "source": [
        "X_train, X_test, y_train, y_test = train_test_split(X, y, test_size = 0.20, random_state=42)"
      ],
      "execution_count": null,
      "outputs": []
    },
    {
      "cell_type": "code",
      "metadata": {
        "id": "s0fDsLv8PJFY"
      },
      "source": [
        "dict_size = 5000\n",
        "# tokenizer\n",
        "tokenier = Tokenizer(dict_size)\n",
        "\n",
        "# something we have to do before next\n",
        "tokenier.fit_on_texts(X_train)\n",
        "\n",
        "# turns train text into indexes\n",
        "X_train = tokenier.texts_to_sequences(X_train)\n",
        "\n",
        "# turns test text into indexes\n",
        "X_test = tokenier.texts_to_sequences(X_test)"
      ],
      "execution_count": null,
      "outputs": []
    },
    {
      "cell_type": "code",
      "metadata": {
        "id": "II-6neCNbLBn",
        "colab": {
          "base_uri": "https://localhost:8080/"
        },
        "outputId": "ceb1acfe-b256-4120-a0c3-1ceca823a814"
      },
      "source": [
        "X_train[:3]"
      ],
      "execution_count": null,
      "outputs": [
        {
          "output_type": "execute_result",
          "data": {
            "text/plain": [
              "[[9,\n",
              "  43,\n",
              "  786,\n",
              "  2121,\n",
              "  524,\n",
              "  299,\n",
              "  1,\n",
              "  104,\n",
              "  1860,\n",
              "  1989,\n",
              "  4281,\n",
              "  2,\n",
              "  782,\n",
              "  4786,\n",
              "  9,\n",
              "  1,\n",
              "  224,\n",
              "  1,\n",
              "  77,\n",
              "  763,\n",
              "  51,\n",
              "  49,\n",
              "  17,\n",
              "  97,\n",
              "  3,\n",
              "  1,\n",
              "  24,\n",
              "  1968,\n",
              "  98,\n",
              "  31,\n",
              "  23,\n",
              "  32,\n",
              "  116,\n",
              "  1101,\n",
              "  9,\n",
              "  6,\n",
              "  5,\n",
              "  2323,\n",
              "  1163,\n",
              "  4,\n",
              "  449,\n",
              "  43,\n",
              "  540,\n",
              "  4,\n",
              "  88,\n",
              "  28,\n",
              "  20,\n",
              "  37,\n",
              "  892,\n",
              "  397,\n",
              "  13,\n",
              "  1,\n",
              "  154,\n",
              "  4,\n",
              "  2935,\n",
              "  22,\n",
              "  4318,\n",
              "  18,\n",
              "  2897,\n",
              "  9,\n",
              "  42,\n",
              "  71,\n",
              "  218,\n",
              "  69,\n",
              "  123,\n",
              "  7,\n",
              "  76,\n",
              "  3100,\n",
              "  193,\n",
              "  18,\n",
              "  232,\n",
              "  2,\n",
              "  1,\n",
              "  427,\n",
              "  198,\n",
              "  4888,\n",
              "  147,\n",
              "  19,\n",
              "  60,\n",
              "  24,\n",
              "  13,\n",
              "  70,\n",
              "  358,\n",
              "  299,\n",
              "  16,\n",
              "  15,\n",
              "  6,\n",
              "  198,\n",
              "  25,\n",
              "  302,\n",
              "  9,\n",
              "  11,\n",
              "  1,\n",
              "  1820,\n",
              "  112,\n",
              "  413,\n",
              "  2,\n",
              "  11,\n",
              "  1,\n",
              "  1651,\n",
              "  562,\n",
              "  67,\n",
              "  419,\n",
              "  373,\n",
              "  82,\n",
              "  114,\n",
              "  43,\n",
              "  110,\n",
              "  361,\n",
              "  28,\n",
              "  33,\n",
              "  15,\n",
              "  41,\n",
              "  10,\n",
              "  88,\n",
              "  441,\n",
              "  13,\n",
              "  357,\n",
              "  1145,\n",
              "  59,\n",
              "  7,\n",
              "  1,\n",
              "  460,\n",
              "  214,\n",
              "  992,\n",
              "  4,\n",
              "  4124,\n",
              "  7,\n",
              "  174,\n",
              "  3,\n",
              "  32,\n",
              "  433,\n",
              "  680,\n",
              "  607,\n",
              "  9,\n",
              "  66,\n",
              "  227,\n",
              "  233,\n",
              "  107,\n",
              "  830,\n",
              "  33,\n",
              "  169,\n",
              "  27,\n",
              "  217,\n",
              "  9,\n",
              "  1,\n",
              "  423,\n",
              "  360,\n",
              "  53,\n",
              "  3696,\n",
              "  273,\n",
              "  157,\n",
              "  1672,\n",
              "  187,\n",
              "  5,\n",
              "  1,\n",
              "  711,\n",
              "  1904,\n",
              "  1,\n",
              "  1177,\n",
              "  3,\n",
              "  2838,\n",
              "  3672,\n",
              "  1652,\n",
              "  2,\n",
              "  144,\n",
              "  147,\n",
              "  225,\n",
              "  3,\n",
              "  203,\n",
              "  320,\n",
              "  2,\n",
              "  147,\n",
              "  1052,\n",
              "  14,\n",
              "  85,\n",
              "  3,\n",
              "  131,\n",
              "  2790,\n",
              "  15,\n",
              "  152,\n",
              "  95,\n",
              "  3,\n",
              "  1,\n",
              "  3974,\n",
              "  299,\n",
              "  8,\n",
              "  12,\n",
              "  975,\n",
              "  33,\n",
              "  1,\n",
              "  485,\n",
              "  2567,\n",
              "  242,\n",
              "  66,\n",
              "  72,\n",
              "  104,\n",
              "  104,\n",
              "  678,\n",
              "  57,\n",
              "  80,\n",
              "  66,\n",
              "  148,\n",
              "  1331,\n",
              "  4,\n",
              "  223,\n",
              "  131,\n",
              "  20,\n",
              "  4319,\n",
              "  29,\n",
              "  137,\n",
              "  205,\n",
              "  1123,\n",
              "  11,\n",
              "  4341,\n",
              "  29,\n",
              "  2276,\n",
              "  2,\n",
              "  7,\n",
              "  8,\n",
              "  5,\n",
              "  438,\n",
              "  11,\n",
              "  610,\n",
              "  3,\n",
              "  1,\n",
              "  703,\n",
              "  2915,\n",
              "  1,\n",
              "  1248,\n",
              "  2,\n",
              "  66,\n",
              "  3571,\n",
              "  1,\n",
              "  154,\n",
              "  1477,\n",
              "  1,\n",
              "  1217,\n",
              "  4,\n",
              "  1584,\n",
              "  1,\n",
              "  862,\n",
              "  1225,\n",
              "  4,\n",
              "  1,\n",
              "  296,\n",
              "  140,\n",
              "  2854,\n",
              "  2,\n",
              "  405,\n",
              "  614,\n",
              "  1,\n",
              "  263,\n",
              "  5,\n",
              "  3514,\n",
              "  977,\n",
              "  4,\n",
              "  25,\n",
              "  37,\n",
              "  11,\n",
              "  1237,\n",
              "  215,\n",
              "  62,\n",
              "  2,\n",
              "  35,\n",
              "  5,\n",
              "  27,\n",
              "  217,\n",
              "  24,\n",
              "  189,\n",
              "  1430,\n",
              "  7,\n",
              "  1068,\n",
              "  15,\n",
              "  4868,\n",
              "  81,\n",
              "  1,\n",
              "  221,\n",
              "  63,\n",
              "  351,\n",
              "  64,\n",
              "  52,\n",
              "  24,\n",
              "  4,\n",
              "  3547,\n",
              "  13,\n",
              "  6,\n",
              "  19,\n",
              "  192,\n",
              "  4,\n",
              "  859,\n",
              "  3430,\n",
              "  1720,\n",
              "  17,\n",
              "  23,\n",
              "  4,\n",
              "  158,\n",
              "  194,\n",
              "  175,\n",
              "  106,\n",
              "  9,\n",
              "  1604,\n",
              "  461,\n",
              "  71,\n",
              "  218,\n",
              "  4,\n",
              "  321,\n",
              "  2,\n",
              "  3431,\n",
              "  31,\n",
              "  20,\n",
              "  47,\n",
              "  68,\n",
              "  1844,\n",
              "  4668,\n",
              "  11,\n",
              "  6,\n",
              "  1365,\n",
              "  8,\n",
              "  16,\n",
              "  5,\n",
              "  3475,\n",
              "  1990,\n",
              "  14,\n",
              "  59,\n",
              "  1,\n",
              "  2380,\n",
              "  460,\n",
              "  518,\n",
              "  2,\n",
              "  170,\n",
              "  2524,\n",
              "  2698,\n",
              "  1745,\n",
              "  4,\n",
              "  573,\n",
              "  6,\n",
              "  33,\n",
              "  1,\n",
              "  3750,\n",
              "  198,\n",
              "  345,\n",
              "  3812],\n",
              " [124,\n",
              "  113,\n",
              "  19,\n",
              "  99,\n",
              "  1,\n",
              "  435,\n",
              "  12,\n",
              "  91,\n",
              "  19,\n",
              "  99,\n",
              "  1,\n",
              "  435,\n",
              "  12,\n",
              "  2254,\n",
              "  1,\n",
              "  257,\n",
              "  96,\n",
              "  145,\n",
              "  13,\n",
              "  300,\n",
              "  30,\n",
              "  517,\n",
              "  2,\n",
              "  1427,\n",
              "  242,\n",
              "  527,\n",
              "  3,\n",
              "  145,\n",
              "  511,\n",
              "  6,\n",
              "  529,\n",
              "  511,\n",
              "  159,\n",
              "  631,\n",
              "  1,\n",
              "  3594,\n",
              "  39,\n",
              "  3,\n",
              "  1,\n",
              "  407,\n",
              "  34,\n",
              "  3889,\n",
              "  93,\n",
              "  193,\n",
              "  1616,\n",
              "  2,\n",
              "  739,\n",
              "  15,\n",
              "  46,\n",
              "  59,\n",
              "  25,\n",
              "  2081,\n",
              "  11,\n",
              "  1616,\n",
              "  585,\n",
              "  27,\n",
              "  3889,\n",
              "  204,\n",
              "  1,\n",
              "  438,\n",
              "  5,\n",
              "  330,\n",
              "  498,\n",
              "  94,\n",
              "  243,\n",
              "  4,\n",
              "  72,\n",
              "  1,\n",
              "  296,\n",
              "  4,\n",
              "  417,\n",
              "  1,\n",
              "  106,\n",
              "  183,\n",
              "  4,\n",
              "  25,\n",
              "  30,\n",
              "  1350,\n",
              "  13,\n",
              "  695,\n",
              "  1264,\n",
              "  33,\n",
              "  24,\n",
              "  126,\n",
              "  4,\n",
              "  157,\n",
              "  306,\n",
              "  5,\n",
              "  332,\n",
              "  2,\n",
              "  1477,\n",
              "  4085,\n",
              "  36,\n",
              "  26,\n",
              "  22,\n",
              "  658,\n",
              "  210,\n",
              "  608,\n",
              "  11,\n",
              "  2057,\n",
              "  1264,\n",
              "  5,\n",
              "  687,\n",
              "  110,\n",
              "  246,\n",
              "  68,\n",
              "  631,\n",
              "  214,\n",
              "  6,\n",
              "  17,\n",
              "  200,\n",
              "  39,\n",
              "  3,\n",
              "  1,\n",
              "  58,\n",
              "  249,\n",
              "  126,\n",
              "  5,\n",
              "  1280,\n",
              "  700,\n",
              "  1,\n",
              "  1663,\n",
              "  1560,\n",
              "  9,\n",
              "  78,\n",
              "  3712,\n",
              "  18,\n",
              "  1,\n",
              "  262,\n",
              "  5,\n",
              "  570,\n",
              "  11,\n",
              "  521,\n",
              "  11,\n",
              "  249,\n",
              "  126,\n",
              "  5,\n",
              "  1683,\n",
              "  7,\n",
              "  1334,\n",
              "  137,\n",
              "  11,\n",
              "  436,\n",
              "  4613,\n",
              "  1,\n",
              "  2084,\n",
              "  29,\n",
              "  1,\n",
              "  412,\n",
              "  100,\n",
              "  20,\n",
              "  155,\n",
              "  81,\n",
              "  17,\n",
              "  46,\n",
              "  14,\n",
              "  1,\n",
              "  98,\n",
              "  4696,\n",
              "  2,\n",
              "  2508,\n",
              "  1560,\n",
              "  2,\n",
              "  1,\n",
              "  864,\n",
              "  1,\n",
              "  100,\n",
              "  639,\n",
              "  51,\n",
              "  7,\n",
              "  5,\n",
              "  19,\n",
              "  188,\n",
              "  403,\n",
              "  1,\n",
              "  546,\n",
              "  9,\n",
              "  21,\n",
              "  5,\n",
              "  4342,\n",
              "  51,\n",
              "  7,\n",
              "  1810,\n",
              "  585,\n",
              "  4,\n",
              "  2408,\n",
              "  417,\n",
              "  33,\n",
              "  1,\n",
              "  296,\n",
              "  41,\n",
              "  1264,\n",
              "  63,\n",
              "  19,\n",
              "  250,\n",
              "  137,\n",
              "  30,\n",
              "  1069,\n",
              "  100,\n",
              "  31,\n",
              "  107,\n",
              "  60,\n",
              "  14,\n",
              "  1,\n",
              "  76,\n",
              "  98,\n",
              "  7,\n",
              "  1,\n",
              "  12,\n",
              "  2,\n",
              "  628,\n",
              "  4808,\n",
              "  5,\n",
              "  1082,\n",
              "  541,\n",
              "  13,\n",
              "  259,\n",
              "  4,\n",
              "  2408,\n",
              "  897,\n",
              "  2,\n",
              "  1,\n",
              "  204,\n",
              "  132,\n",
              "  1181,\n",
              "  32,\n",
              "  700,\n",
              "  2,\n",
              "  26,\n",
              "  1,\n",
              "  603,\n",
              "  455,\n",
              "  220,\n",
              "  94,\n",
              "  1052,\n",
              "  8,\n",
              "  12,\n",
              "  91,\n",
              "  23,\n",
              "  71,\n",
              "  1681,\n",
              "  15,\n",
              "  6,\n",
              "  211,\n",
              "  82,\n",
              "  99,\n",
              "  6],\n",
              " [128,\n",
              "  1307,\n",
              "  108,\n",
              "  58,\n",
              "  2791,\n",
              "  3,\n",
              "  7,\n",
              "  1,\n",
              "  1248,\n",
              "  13,\n",
              "  108,\n",
              "  4512,\n",
              "  2550,\n",
              "  18,\n",
              "  1668,\n",
              "  3890,\n",
              "  2,\n",
              "  80,\n",
              "  8,\n",
              "  5,\n",
              "  327,\n",
              "  29,\n",
              "  4164,\n",
              "  74,\n",
              "  4,\n",
              "  1319,\n",
              "  4,\n",
              "  249,\n",
              "  76,\n",
              "  1,\n",
              "  58,\n",
              "  2711,\n",
              "  18,\n",
              "  31,\n",
              "  481,\n",
              "  32,\n",
              "  69,\n",
              "  4,\n",
              "  25,\n",
              "  2176,\n",
              "  1590,\n",
              "  11,\n",
              "  65,\n",
              "  11,\n",
              "  45,\n",
              "  593,\n",
              "  2,\n",
              "  323,\n",
              "  1320,\n",
              "  5,\n",
              "  48,\n",
              "  3486,\n",
              "  4,\n",
              "  84,\n",
              "  11,\n",
              "  1,\n",
              "  58,\n",
              "  4165,\n",
              "  66,\n",
              "  61,\n",
              "  1,\n",
              "  1308,\n",
              "  1741,\n",
              "  1,\n",
              "  2263,\n",
              "  7,\n",
              "  22,\n",
              "  286,\n",
              "  1483,\n",
              "  2,\n",
              "  80,\n",
              "  21,\n",
              "  14,\n",
              "  1,\n",
              "  1487,\n",
              "  9,\n",
              "  389,\n",
              "  84,\n",
              "  310,\n",
              "  2,\n",
              "  695,\n",
              "  58]]"
            ]
          },
          "metadata": {
            "tags": []
          },
          "execution_count": 16
        }
      ]
    },
    {
      "cell_type": "code",
      "metadata": {
        "id": "G1lYTc_czHLt"
      },
      "source": [
        "vocab_size = len(tokenier.word_index) + 1\n",
        "max_len = 100\n",
        "maxlen = 100\n",
        "\n",
        "X_train = pad_sequences(X_train, padding='post', maxlen=maxlen)\n",
        "X_test = pad_sequences(X_test, padding='post', maxlen=maxlen)"
      ],
      "execution_count": null,
      "outputs": []
    },
    {
      "cell_type": "code",
      "metadata": {
        "id": "OjFFhy6qGOsY",
        "colab": {
          "base_uri": "https://localhost:8080/"
        },
        "outputId": "47f43595-ba9b-4907-cfd2-d282374c0a09"
      },
      "source": [
        "vocab_size"
      ],
      "execution_count": null,
      "outputs": [
        {
          "output_type": "execute_result",
          "data": {
            "text/plain": [
              "92547"
            ]
          },
          "metadata": {
            "tags": []
          },
          "execution_count": 18
        }
      ]
    },
    {
      "cell_type": "code",
      "metadata": {
        "id": "aGTrhW75cz4W",
        "colab": {
          "base_uri": "https://localhost:8080/"
        },
        "outputId": "a2685935-e2f1-4e33-a05a-8ebc10691519"
      },
      "source": [
        "X_train[:3]"
      ],
      "execution_count": null,
      "outputs": [
        {
          "output_type": "execute_result",
          "data": {
            "text/plain": [
              "array([[   4,    1,  296,  140, 2854,    2,  405,  614,    1,  263,    5,\n",
              "        3514,  977,    4,   25,   37,   11, 1237,  215,   62,    2,   35,\n",
              "           5,   27,  217,   24,  189, 1430,    7, 1068,   15, 4868,   81,\n",
              "           1,  221,   63,  351,   64,   52,   24,    4, 3547,   13,    6,\n",
              "          19,  192,    4,  859, 3430, 1720,   17,   23,    4,  158,  194,\n",
              "         175,  106,    9, 1604,  461,   71,  218,    4,  321,    2, 3431,\n",
              "          31,   20,   47,   68, 1844, 4668,   11,    6, 1365,    8,   16,\n",
              "           5, 3475, 1990,   14,   59,    1, 2380,  460,  518,    2,  170,\n",
              "        2524, 2698, 1745,    4,  573,    6,   33,    1, 3750,  198,  345,\n",
              "        3812],\n",
              "       [   1,  412,  100,   20,  155,   81,   17,   46,   14,    1,   98,\n",
              "        4696,    2, 2508, 1560,    2,    1,  864,    1,  100,  639,   51,\n",
              "           7,    5,   19,  188,  403,    1,  546,    9,   21,    5, 4342,\n",
              "          51,    7, 1810,  585,    4, 2408,  417,   33,    1,  296,   41,\n",
              "        1264,   63,   19,  250,  137,   30, 1069,  100,   31,  107,   60,\n",
              "          14,    1,   76,   98,    7,    1,   12,    2,  628, 4808,    5,\n",
              "        1082,  541,   13,  259,    4, 2408,  897,    2,    1,  204,  132,\n",
              "        1181,   32,  700,    2,   26,    1,  603,  455,  220,   94, 1052,\n",
              "           8,   12,   91,   23,   71, 1681,   15,    6,  211,   82,   99,\n",
              "           6],\n",
              "       [ 128, 1307,  108,   58, 2791,    3,    7,    1, 1248,   13,  108,\n",
              "        4512, 2550,   18, 1668, 3890,    2,   80,    8,    5,  327,   29,\n",
              "        4164,   74,    4, 1319,    4,  249,   76,    1,   58, 2711,   18,\n",
              "          31,  481,   32,   69,    4,   25, 2176, 1590,   11,   65,   11,\n",
              "          45,  593,    2,  323, 1320,    5,   48, 3486,    4,   84,   11,\n",
              "           1,   58, 4165,   66,   61,    1, 1308, 1741,    1, 2263,    7,\n",
              "          22,  286, 1483,    2,   80,   21,   14,    1, 1487,    9,  389,\n",
              "          84,  310,    2,  695,   58,    0,    0,    0,    0,    0,    0,\n",
              "           0,    0,    0,    0,    0,    0,    0,    0,    0,    0,    0,\n",
              "           0]], dtype=int32)"
            ]
          },
          "metadata": {
            "tags": []
          },
          "execution_count": 19
        }
      ]
    },
    {
      "cell_type": "code",
      "metadata": {
        "id": "JVHdCndkc4Id"
      },
      "source": [
        "from google.colab import files\n",
        "# uploaded2 = files.upload()"
      ],
      "execution_count": null,
      "outputs": []
    },
    {
      "cell_type": "code",
      "metadata": {
        "id": "6_3R7lP-dqok"
      },
      "source": [
        "glove_file = open('/content/drive/My Drive/Colab Notebooks/glove.6B.100d.txt', encoding='utf8')"
      ],
      "execution_count": null,
      "outputs": []
    },
    {
      "cell_type": "code",
      "metadata": {
        "id": "0bmpNDX4eVpp"
      },
      "source": [
        "from numpy import array\n",
        "from numpy import asarray\n",
        "from numpy import zeros\n",
        "\n",
        "embeddings_dictionary = dict()\n",
        "# glove_file = open('E:/Datasets/Word Embeddings/glove.6B.100d.txt', encoding=\"utf8\")\n",
        "\n",
        "# build our feature matrix\n",
        "for line in glove_file:\n",
        "    records = line.split()\n",
        "    # key is the first element in record (lines in globar vector file)\n",
        "    word = records[0]\n",
        "    # the rest of the recvord goes in as array (hence asarray :))\n",
        "    vector_dimensions = asarray(records[1:], dtype='float32')\n",
        "    # finally, we fill the dictionery with word as key (first elemnt in glove file lines)\n",
        "    # and the rest of the line as it's value\n",
        "    embeddings_dictionary [word] = vector_dimensions\n",
        "glove_file.close()"
      ],
      "execution_count": null,
      "outputs": []
    },
    {
      "cell_type": "code",
      "metadata": {
        "id": "J-VeQdlrex5A"
      },
      "source": [
        "# define matrix of zeroes with rows equal to vocab size (length of word index)\n",
        "# and colums equals to 100\n",
        "embedding_matrix = zeros((vocab_size, 100))\n",
        "\n",
        "# loop through word_index items\n",
        "# vocab size varible means embedding_matrix has same size as word_index\n",
        "for word, index in tokenier.word_index.items():\n",
        "  # need to check with this again (what exactly is word in both collections)\n",
        "    embedding_vector = embeddings_dictionary.get(word)\n",
        "    # if word (looping thorugh word_index) exists in glove (embeddings_dictionary)\n",
        "    if embedding_vector is not None:\n",
        "        embedding_matrix[index] = embedding_vector"
      ],
      "execution_count": null,
      "outputs": []
    },
    {
      "cell_type": "markdown",
      "metadata": {
        "id": "acp772nx4uU_"
      },
      "source": [
        ""
      ]
    },
    {
      "cell_type": "markdown",
      "metadata": {
        "id": "LthH257Z30BQ"
      },
      "source": [
        "Word on Neural Network:\n",
        "Simple NN: not much to tell about it, simple.\n",
        "\n",
        "Convnoutal NN: works with 2D data, like images, but we can convert it to 1D to work with text.\n",
        "\n",
        "Recurrent NN: Works with sequence of data which makes it great for working with text"
      ]
    },
    {
      "cell_type": "markdown",
      "metadata": {
        "id": "sJ55aI_H4tCo"
      },
      "source": [
        "Let's go!"
      ]
    },
    {
      "cell_type": "markdown",
      "metadata": {
        "id": "zbOiMNYbPjm-"
      },
      "source": [
        "Simple Neural Network:"
      ]
    },
    {
      "cell_type": "code",
      "metadata": {
        "id": "7w-0TQaonmlP"
      },
      "source": [
        "# define model\n",
        "model = Sequential()\n",
        "\n",
        "# define embedding layer: Embedding layer enables us to convert each word into a fixed length vector of defined size\n",
        "embedding_layer = Embedding(vocab_size, 100, weights=[embedding_matrix], input_length=maxlen , trainable=False)\n",
        "#adding it\n",
        "model.add(embedding_layer)\n",
        "\n",
        "#adding flatten layer: Flattening is converting the data into a 1-dimensional array for inputting it to the next layer\n",
        "model.add(Flatten())\n",
        "\n",
        "#adding dense layer: a dense layer is simply a layer where each unit or neuron is connected to each neuron in the next layer.\n",
        "# the guy also chose sigmoid activation function:\n",
        "# An activation function in a neural network defines how the weighted sum of the input... \n",
        "# ...is transformed into an output from a node or nodes in a layer of the network.\n",
        "model.add(Dense(1, activation='sigmoid'))"
      ],
      "execution_count": null,
      "outputs": []
    },
    {
      "cell_type": "code",
      "metadata": {
        "id": "E-_y4eH3oPGl",
        "colab": {
          "base_uri": "https://localhost:8080/"
        },
        "outputId": "2013bf9c-26e3-4067-9252-ff7ee4b997c0"
      },
      "source": [
        "model.compile(optimizer='adam', loss='binary_crossentropy', metrics=['acc'])\n",
        "# optimizer: Optimizers are algorithms or methods used to change the attributes of the neural network\n",
        "# such as weights and learning rate to reduce the losses\n",
        "# loss: The purpose of loss functions is to compute the quantity that a model should seek to minimize during training.\n",
        "# metrics: A metric is a function that is used to judge the performance of your model.\n",
        "\n",
        "print(model.summary())"
      ],
      "execution_count": null,
      "outputs": [
        {
          "output_type": "stream",
          "text": [
            "Model: \"sequential\"\n",
            "_________________________________________________________________\n",
            "Layer (type)                 Output Shape              Param #   \n",
            "=================================================================\n",
            "embedding (Embedding)        (None, 100, 100)          9254700   \n",
            "_________________________________________________________________\n",
            "flatten (Flatten)            (None, 10000)             0         \n",
            "_________________________________________________________________\n",
            "dense (Dense)                (None, 1)                 10001     \n",
            "=================================================================\n",
            "Total params: 9,264,701\n",
            "Trainable params: 10,001\n",
            "Non-trainable params: 9,254,700\n",
            "_________________________________________________________________\n",
            "None\n"
          ],
          "name": "stdout"
        }
      ]
    },
    {
      "cell_type": "code",
      "metadata": {
        "id": "CqlRUZwkqWT3",
        "colab": {
          "base_uri": "https://localhost:8080/"
        },
        "outputId": "507b8d0e-c31a-45a1-dd83-4d2c72623675"
      },
      "source": [
        "# this cell is where the training happens:\n",
        "history = model.fit(X_train, y_train, batch_size=128, epochs=6, verbose=1, validation_split=0.2)\n",
        "# epoch: In an epoch, we use all of the data exactly once (cycle)\n",
        "# validation_split: Float between 0 and 1. Fraction of the training data to be used as validation data\n",
        "# 0.2 means that 20% of the training data is used to find the training accuracy of the algorithm."
      ],
      "execution_count": null,
      "outputs": [
        {
          "output_type": "stream",
          "text": [
            "Epoch 1/6\n",
            "250/250 [==============================] - 14s 5ms/step - loss: 0.6686 - acc: 0.6174 - val_loss: 0.5552 - val_acc: 0.7116\n",
            "Epoch 2/6\n",
            "250/250 [==============================] - 1s 3ms/step - loss: 0.4993 - acc: 0.7578 - val_loss: 0.5382 - val_acc: 0.7254\n",
            "Epoch 3/6\n",
            "250/250 [==============================] - 1s 3ms/step - loss: 0.4597 - acc: 0.7846 - val_loss: 0.5299 - val_acc: 0.7383\n",
            "Epoch 4/6\n",
            "250/250 [==============================] - 1s 3ms/step - loss: 0.4254 - acc: 0.8071 - val_loss: 0.5277 - val_acc: 0.7404\n",
            "Epoch 5/6\n",
            "250/250 [==============================] - 1s 3ms/step - loss: 0.4112 - acc: 0.8197 - val_loss: 0.5424 - val_acc: 0.7362\n",
            "Epoch 6/6\n",
            "250/250 [==============================] - 1s 3ms/step - loss: 0.4005 - acc: 0.8260 - val_loss: 0.5468 - val_acc: 0.7345\n"
          ],
          "name": "stdout"
        }
      ]
    },
    {
      "cell_type": "code",
      "metadata": {
        "id": "NUce1SJSrBzK",
        "colab": {
          "base_uri": "https://localhost:8080/"
        },
        "outputId": "887da23b-b2d9-4737-8ec1-c5a395f871bc"
      },
      "source": [
        "score = model.evaluate(X_test, y_test, verbose=1)"
      ],
      "execution_count": null,
      "outputs": [
        {
          "output_type": "stream",
          "text": [
            "313/313 [==============================] - 0s 1ms/step - loss: 0.5471 - acc: 0.7375\n"
          ],
          "name": "stdout"
        }
      ]
    },
    {
      "cell_type": "code",
      "metadata": {
        "id": "2nYKyVyArGlK",
        "colab": {
          "base_uri": "https://localhost:8080/"
        },
        "outputId": "9a106788-705d-492e-be56-535363844d12"
      },
      "source": [
        "# To check the test accuracy and loss, execute the following script:\n",
        "print(\"Test Score:\", score[0])\n",
        "print(\"Test Accuracy:\", score[1])"
      ],
      "execution_count": null,
      "outputs": [
        {
          "output_type": "stream",
          "text": [
            "Test Score: 0.5471360087394714\n",
            "Test Accuracy: 0.737500011920929\n"
          ],
          "name": "stdout"
        }
      ]
    },
    {
      "cell_type": "markdown",
      "metadata": {
        "id": "9thY6mOzrYEY"
      },
      "source": [
        "Once you execute the above script, you will see that we get a test accuracy of 74.68%. Our training accuracy was 85.52%. This means that our model is overfitting on the training set. Overfitting occurs when your model performs better on the training set than the test set. Ideally, the performance difference between training and test sets should be minimum.\n",
        "\n"
      ]
    },
    {
      "cell_type": "code",
      "metadata": {
        "id": "zDWNmqmZFQss"
      },
      "source": [
        "import matplotlib.pyplot as plt"
      ],
      "execution_count": null,
      "outputs": []
    },
    {
      "cell_type": "code",
      "metadata": {
        "id": "TcEIlIEPy5Kt"
      },
      "source": [
        "# Note on plotting:\n",
        "# this is what histor.history looks like:\n",
        "# {'acc': [0.7544062733650208,\n",
        "#   0.8369062542915344,\n",
        "#   0.8641562461853027,\n",
        "#   0.8870624899864197,\n",
        "#   0.8983749747276306,\n",
        "#   0.9220312237739563],\n",
        "#  'loss': [0.49604183435440063,\n",
        "#   0.3705410063266754,\n",
        "#   0.3204140067100525,\n",
        "#   0.27911317348480225,\n",
        "#   0.2528165876865387,\n",
        "#   0.21523945033550262],\n",
        "#  'val_acc': [0.8197500109672546,\n",
        "#   0.8396250009536743,\n",
        "#   0.8361250162124634,\n",
        "#   0.8501250147819519,\n",
        "#   0.8497499823570251,\n",
        "#   0.8521249890327454],\n",
        "#  'val_loss': [0.39696407318115234,\n",
        "#   0.36161020398139954,\n",
        "#   0.36183205246925354,\n",
        "#   0.3399807810783386,\n",
        "#   0.3386904299259186,"
      ],
      "execution_count": null,
      "outputs": []
    },
    {
      "cell_type": "code",
      "metadata": {
        "id": "tHUXbQQKrZN8",
        "colab": {
          "base_uri": "https://localhost:8080/",
          "height": 611
        },
        "outputId": "286f8c03-53dc-41c7-d0cd-19b199613748"
      },
      "source": [
        "plt.plot(history.history['acc'])\n",
        "plt.plot(history.history['val_acc'])\n",
        "\n",
        "plt.title('model accuracy')\n",
        "plt.ylabel('accuracy')\n",
        "plt.xlabel('epoch')\n",
        "plt.legend(['train','test'], loc='upper left')\n",
        "plt.show()\n",
        "\n",
        "print('\\n')\n",
        "\n",
        "plt.plot(history.history['loss'])\n",
        "plt.plot(history.history['val_loss'])\n",
        "\n",
        "plt.title('model loss')\n",
        "plt.ylabel('loss')\n",
        "plt.xlabel('epoch')\n",
        "plt.legend(['train','test'], loc='upper left')\n",
        "plt.show()"
      ],
      "execution_count": null,
      "outputs": [
        {
          "output_type": "display_data",
          "data": {
            "image/png": "[encoded data removed]",
            "text/plain": [
              "<Figure size 432x288 with 1 Axes>"
            ]
          },
          "metadata": {
            "tags": [],
            "needs_background": "light"
          }
        },
        {
          "output_type": "stream",
          "text": [
            "\n",
            "\n"
          ],
          "name": "stdout"
        },
        {
          "output_type": "display_data",
          "data": {
            "image/png": "[encoded data removed]",
            "text/plain": [
              "<Figure size 432x288 with 1 Axes>"
            ]
          },
          "metadata": {
            "tags": [],
            "needs_background": "light"
          }
        }
      ]
    },
    {
      "cell_type": "markdown",
      "metadata": {
        "id": "SOO8TcaCPVXU"
      },
      "source": [
        "why does the graph fluctuate??? es[ically at 2 and 4 epochs"
      ]
    },
    {
      "cell_type": "code",
      "metadata": {
        "id": "8f7OHIGGPdRl"
      },
      "source": [
        "# Convolutional Neural Network:"
      ],
      "execution_count": null,
      "outputs": []
    },
    {
      "cell_type": "code",
      "metadata": {
        "id": "8El7N4dSPpXl"
      },
      "source": [
        "model = Sequential()\n",
        "\n",
        "# typical stuff\n",
        "embedding_layer = Embedding(vocab_size, 100, weights=[embedding_matrix], input_length=maxlen, trainable=False)\n",
        "model.add(embedding_layer)\n",
        "\n",
        "# this is the convolutional part of cnn\n",
        "# cnn is 2d (images) so we use 1D\n",
        "# from docs: This layer creates a convolution kernel that is convolved with the layer\n",
        "# input over a single spatial dimension to produce a tensor of outputs\n",
        "model.add(Conv1D(128, 5, activation='relu'))\n",
        "\n",
        "# Downsamples the input representation by taking the maximum value over the time dimension\n",
        "model.add(GlobalMaxPooling1D())\n",
        "\n",
        "# also typical stuff\n",
        "model.add(Dense(1, activation='sigmoid'))\n",
        "model.compile(optimizer='adam', loss='binary_crossentropy', metrics=['acc'])"
      ],
      "execution_count": null,
      "outputs": []
    },
    {
      "cell_type": "code",
      "metadata": {
        "id": "SF1Sv-DKSaq_",
        "colab": {
          "base_uri": "https://localhost:8080/"
        },
        "outputId": "f8b706e7-c515-48b4-c13b-404c72880efa"
      },
      "source": [
        "print(model.summary())"
      ],
      "execution_count": null,
      "outputs": [
        {
          "output_type": "stream",
          "text": [
            "Model: \"sequential_1\"\n",
            "_________________________________________________________________\n",
            "Layer (type)                 Output Shape              Param #   \n",
            "=================================================================\n",
            "embedding_1 (Embedding)      (None, 100, 100)          9254700   \n",
            "_________________________________________________________________\n",
            "conv1d (Conv1D)              (None, 96, 128)           64128     \n",
            "_________________________________________________________________\n",
            "global_max_pooling1d (Global (None, 128)               0         \n",
            "_________________________________________________________________\n",
            "dense_1 (Dense)              (None, 1)                 129       \n",
            "=================================================================\n",
            "Total params: 9,318,957\n",
            "Trainable params: 64,257\n",
            "Non-trainable params: 9,254,700\n",
            "_________________________________________________________________\n",
            "None\n"
          ],
          "name": "stdout"
        }
      ]
    },
    {
      "cell_type": "code",
      "metadata": {
        "id": "dmL4ibsDnH2h",
        "colab": {
          "base_uri": "https://localhost:8080/"
        },
        "outputId": "7accb4ee-0135-408d-ff46-b6e2df1e73ab"
      },
      "source": [
        "history = model.fit(X_train, y_train, batch_size=128, epochs=6, verbose=1, validation_split=0.2)"
      ],
      "execution_count": null,
      "outputs": [
        {
          "output_type": "stream",
          "text": [
            "Epoch 1/6\n",
            "250/250 [==============================] - 18s 67ms/step - loss: 0.5782 - acc: 0.6868 - val_loss: 0.3939 - val_acc: 0.8234\n",
            "Epoch 2/6\n",
            "250/250 [==============================] - 16s 66ms/step - loss: 0.3713 - acc: 0.8346 - val_loss: 0.3837 - val_acc: 0.8210\n",
            "Epoch 3/6\n",
            "250/250 [==============================] - 16s 66ms/step - loss: 0.3172 - acc: 0.8652 - val_loss: 0.3512 - val_acc: 0.8409\n",
            "Epoch 4/6\n",
            "250/250 [==============================] - 16s 66ms/step - loss: 0.2850 - acc: 0.8849 - val_loss: 0.3421 - val_acc: 0.8479\n",
            "Epoch 5/6\n",
            "250/250 [==============================] - 16s 65ms/step - loss: 0.2426 - acc: 0.9082 - val_loss: 0.3450 - val_acc: 0.8479\n",
            "Epoch 6/6\n",
            "250/250 [==============================] - 16s 64ms/step - loss: 0.2102 - acc: 0.9281 - val_loss: 0.3442 - val_acc: 0.8489\n"
          ],
          "name": "stdout"
        }
      ]
    },
    {
      "cell_type": "code",
      "metadata": {
        "id": "ioDqFFO-ycST",
        "colab": {
          "base_uri": "https://localhost:8080/"
        },
        "outputId": "a241e75d-fbf5-4eaa-f0b9-6181e203ce97"
      },
      "source": [
        "history.history"
      ],
      "execution_count": null,
      "outputs": [
        {
          "output_type": "execute_result",
          "data": {
            "text/plain": [
              "{'acc': [0.754031240940094,\n",
              "  0.8369374871253967,\n",
              "  0.8658437728881836,\n",
              "  0.8867499828338623,\n",
              "  0.9047812223434448,\n",
              "  0.9231874942779541],\n",
              " 'loss': [0.49813833832740784,\n",
              "  0.36818060278892517,\n",
              "  0.3177762031555176,\n",
              "  0.2787849009037018,\n",
              "  0.24635633826255798,\n",
              "  0.21527360379695892],\n",
              " 'val_acc': [0.8233749866485596,\n",
              "  0.8209999799728394,\n",
              "  0.8408750295639038,\n",
              "  0.8478749990463257,\n",
              "  0.8478749990463257,\n",
              "  0.8488749861717224],\n",
              " 'val_loss': [0.3938951790332794,\n",
              "  0.38365665078163147,\n",
              "  0.351240873336792,\n",
              "  0.3421289622783661,\n",
              "  0.34495994448661804,\n",
              "  0.34416574239730835]}"
            ]
          },
          "metadata": {
            "tags": []
          },
          "execution_count": 36
        }
      ]
    },
    {
      "cell_type": "code",
      "metadata": {
        "id": "KTn-WYc3nQv-",
        "colab": {
          "base_uri": "https://localhost:8080/"
        },
        "outputId": "8fcd145c-9f0e-4f5f-fb27-9a9c6dfc8ef4"
      },
      "source": [
        "score = model.evaluate(X_test, y_test, verbose=1)"
      ],
      "execution_count": null,
      "outputs": [
        {
          "output_type": "stream",
          "text": [
            "313/313 [==============================] - 2s 7ms/step - loss: 0.3458 - acc: 0.8456\n"
          ],
          "name": "stdout"
        }
      ]
    },
    {
      "cell_type": "code",
      "metadata": {
        "colab": {
          "base_uri": "https://localhost:8080/",
          "height": 611
        },
        "id": "DE4IdD5Wn2PF",
        "outputId": "978c6c08-3b46-48dd-caac-bd44bdb85651"
      },
      "source": [
        "plt.plot(history.history['acc'])\n",
        "plt.plot(history.history['val_acc'])\n",
        "\n",
        "plt.title('model accuracy')\n",
        "plt.ylabel('accuracy')\n",
        "plt.xlabel('epoch')\n",
        "plt.legend(['train','test'], loc = 'upper left')\n",
        "plt.show()\n",
        "\n",
        "print('\\n')\n",
        "\n",
        "plt.plot(history.history['loss'])\n",
        "plt.plot(history.history['val_loss'])\n",
        "\n",
        "plt.title('model loss')\n",
        "plt.ylabel('loss')\n",
        "plt.xlabel('epoch')\n",
        "plt.legend(['train','test'], loc = 'upper left')\n",
        "plt.show()"
      ],
      "execution_count": null,
      "outputs": [
        {
          "output_type": "display_data",
          "data": {
            "image/png": "[encoded data removed]",
            "text/plain": [
              "<Figure size 432x288 with 1 Axes>"
            ]
          },
          "metadata": {
            "tags": [],
            "needs_background": "light"
          }
        },
        {
          "output_type": "stream",
          "text": [
            "\n",
            "\n"
          ],
          "name": "stdout"
        },
        {
          "output_type": "display_data",
          "data": {
            "image/png": "[encoded data removed]",
            "text/plain": [
              "<Figure size 432x288 with 1 Axes>"
            ]
          },
          "metadata": {
            "tags": [],
            "needs_background": "light"
          }
        }
      ]
    },
    {
      "cell_type": "markdown",
      "metadata": {
        "id": "d55szzZszUFF"
      },
      "source": [
        "Recurrent Neural Network (LSTM: long short-term memorey):"
      ]
    },
    {
      "cell_type": "code",
      "metadata": {
        "id": "3Zh69RqZzbe2"
      },
      "source": [
        "model = Sequential()\n",
        "embedding_layer = Embedding(vocab_size, 100, weights=[embedding_matrix], input_length=maxlen , trainable=False)\n",
        "model.add(embedding_layer)\n",
        "# I'm not sure what 128 stands for, articale says neurons\n",
        "# however docs does not have that, they have units\n",
        "# are units and neurons the same????????\n",
        "# I need to check patamters\n",
        "model.add(LSTM(128))\n",
        "\n",
        "model.add(Dense(1, activation='sigmoid'))\n",
        "model.compile(optimizer='adam', loss='binary_crossentropy', metrics=['acc'])"
      ],
      "execution_count": null,
      "outputs": []
    },
    {
      "cell_type": "code",
      "metadata": {
        "id": "yXvNvJha28Hw",
        "colab": {
          "base_uri": "https://localhost:8080/"
        },
        "outputId": "3b73d282-9fd1-4bd3-f849-970bac481f4c"
      },
      "source": [
        "print(model.summary())"
      ],
      "execution_count": null,
      "outputs": [
        {
          "output_type": "stream",
          "text": [
            "Model: \"sequential_2\"\n",
            "_________________________________________________________________\n",
            "Layer (type)                 Output Shape              Param #   \n",
            "=================================================================\n",
            "embedding_2 (Embedding)      (None, 100, 100)          9254700   \n",
            "_________________________________________________________________\n",
            "lstm (LSTM)                  (None, 128)               117248    \n",
            "_________________________________________________________________\n",
            "dense_2 (Dense)              (None, 1)                 129       \n",
            "=================================================================\n",
            "Total params: 9,372,077\n",
            "Trainable params: 117,377\n",
            "Non-trainable params: 9,254,700\n",
            "_________________________________________________________________\n",
            "None\n"
          ],
          "name": "stdout"
        }
      ]
    },
    {
      "cell_type": "code",
      "metadata": {
        "id": "RtU8MsGz2-rn"
      },
      "source": [
        "history = model.fit(X_train, y_train, batch_size=128, epochs=6, verbose=1, validation_split=0.2)"
      ],
      "execution_count": null,
      "outputs": []
    },
    {
      "cell_type": "code",
      "metadata": {
        "id": "oXL8gH9a3BDc"
      },
      "source": [
        "score = model.evaluate(X_test, y_test, verbose=1)"
      ],
      "execution_count": null,
      "outputs": []
    },
    {
      "cell_type": "code",
      "metadata": {
        "id": "3hacdH3A44wO"
      },
      "source": [
        "print(\"Test Score:\", score[0])\n",
        "print(\"Test Accuracy:\", score[1])"
      ],
      "execution_count": null,
      "outputs": []
    },
    {
      "cell_type": "code",
      "metadata": {
        "id": "z2YjtEvt48o8"
      },
      "source": [
        "plt.plot(history.history['acc'])\n",
        "plt.plot(history.history['val_acc'])\n",
        "\n",
        "plt.title('model accuracy')\n",
        "plt.ylabel('accuracy')\n",
        "plt.xlabel('epoch')\n",
        "plt.legend(['train','test'], loc='upper left')\n",
        "plt.show()\n",
        "\n",
        "print('\\n')\n",
        "\n",
        "plt.plot(history.history['loss'])\n",
        "plt.plot(history.history['val_loss'])\n",
        "\n",
        "plt.title('model loss')\n",
        "plt.ylabel('loss')\n",
        "plt.xlabel('epoch')\n",
        "plt.legend(['train','test'], loc='upper left')\n",
        "plt.show()"
      ],
      "execution_count": null,
      "outputs": []
    },
    {
      "cell_type": "markdown",
      "metadata": {
        "id": "kXRJ4ZbQ5NIn"
      },
      "source": [
        "TODO: change the number of layers, number of neurons and activation functions for all three neural networks discussed in this article and see which neural network works best for you."
      ]
    },
    {
      "cell_type": "code",
      "metadata": {
        "id": "p4oSJwQi5Gqc"
      },
      "source": [
        ""
      ],
      "execution_count": null,
      "outputs": []
    }
  ]
}